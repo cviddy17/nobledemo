{
 "cells": [
  {
   "cell_type": "code",
   "execution_count": 1,
   "metadata": {},
   "outputs": [],
   "source": [
    "import pandas as pd\n",
    "from sklearn.model_selection import cross_val_score\n",
    "from sklearn.feature_extraction.text import CountVectorizer\n",
    "from sklearn.naive_bayes import MultinomialNB"
   ]
  },
  {
   "cell_type": "markdown",
   "metadata": {},
   "source": [
    "Written by Chad Valencia, chadvalencia@gmail.com\n",
    "\n",
    "Data sourced from:\n",
    "https://archive.ics.uci.edu/ml/datasets/Sentiment+Labelled+Sentences\n",
    "for the paper:\n",
    "From Group to Individual Labels using Deep Features', Kotzias et. al,. KDD 2015 \n"
   ]
  },
  {
   "cell_type": "code",
   "execution_count": 2,
   "metadata": {},
   "outputs": [],
   "source": [
    "yelp_reviews = pd.read_csv('data/yelp_labelled.txt',header=None,delimiter='\\t')"
   ]
  },
  {
   "cell_type": "code",
   "execution_count": 3,
   "metadata": {},
   "outputs": [],
   "source": [
    "imdb_reviews = pd.read_csv('data/imdb_labelled.txt',header=None,delimiter='\\t')"
   ]
  },
  {
   "cell_type": "code",
   "execution_count": 4,
   "metadata": {},
   "outputs": [],
   "source": [
    "amazon_reviews = pd.read_csv('data/amazon_cells_labelled.txt',header=None,delimiter='\\t')"
   ]
  },
  {
   "cell_type": "code",
   "execution_count": null,
   "metadata": {},
   "outputs": [],
   "source": []
  },
  {
   "cell_type": "code",
   "execution_count": 5,
   "metadata": {},
   "outputs": [
    {
     "name": "stdout",
     "output_type": "stream",
     "text": [
      "Yelp accuracy:  0.805\n",
      "imdb accuracy:  0.7471896633475581\n",
      "amazon accuracy:  0.8169999999999998\n"
     ]
    }
   ],
   "source": [
    "#Count Vectorizer does a word count of every word in the overall vocabulary\n",
    "\n",
    "#yelp reviews\n",
    "yelp_count = CountVectorizer()\n",
    "X_yelp = yelp_count.fit_transform(yelp_reviews[0])\n",
    "y_yelp = yelp_reviews[1]\n",
    "\n",
    "yelp = MultinomialNB()\n",
    "yelp.fit(X_yelp,y_yelp)\n",
    "yelp_score = cross_val_score(yelp,X_yelp,y_yelp,cv=10)\n",
    "print(\"Yelp accuracy: \",yelp_score.mean())\n",
    "\n",
    "#imdb reviews\n",
    "imdb_count = CountVectorizer()\n",
    "X_imdb = imdb_count.fit_transform(imdb_reviews[0])\n",
    "y_imdb = imdb_reviews[1]\n",
    "\n",
    "imdb = MultinomialNB()\n",
    "imdb.fit(X_imdb,y_imdb)\n",
    "imdb_score = cross_val_score(imdb,X_imdb,y_imdb,cv=10)\n",
    "print(\"imdb accuracy: \",imdb_score.mean())\n",
    "\n",
    "#amazon reviews\n",
    "amazon_count = CountVectorizer()\n",
    "X_amzn = amazon_count.fit_transform(amazon_reviews[0])\n",
    "y_amzn = amazon_reviews[1]\n",
    "\n",
    "amazon = MultinomialNB()\n",
    "amazon.fit(X_amzn,y_amzn)\n",
    "amzn_score = cross_val_score(amazon,X_amzn,y_amzn,cv=10)\n",
    "print(\"amazon accuracy: \",amzn_score.mean())"
   ]
  },
  {
   "cell_type": "code",
   "execution_count": 6,
   "metadata": {},
   "outputs": [],
   "source": [
    "def testing(test_sentence):\n",
    "    yp = yelp.predict(yelp_count.transform([test_sentence]))\n",
    "    ip = imdb.predict(imdb_count.transform([test_sentence]))\n",
    "    ap = amazon.predict(amazon_count.transform([test_sentence]))\n",
    "    ypr = yelp.predict_proba(yelp_count.transform([test_sentence]))*100\n",
    "    ipr = imdb.predict_proba(imdb_count.transform([test_sentence]))*100\n",
    "    apr = amazon.predict_proba(amazon_count.transform([test_sentence]))*100\n",
    "    list = [yp, ip, ap]\n",
    "    list2 = []\n",
    "    for i in list:\n",
    "        if i == 1:\n",
    "            list2.append('positive')\n",
    "        else:\n",
    "            list2.append('negative')\n",
    "    list3 = ypr,ipr,apr\n",
    "    list4 = ['yelp','imdb','amazon']\n",
    "    for i in range(3):\n",
    "        print(str(list4[i])+' predicts '+str(list2[i])+' with a positive probability of {:.04f} %'.format(list3[i][0][1]))\n",
    "    pass"
   ]
  },
  {
   "cell_type": "code",
   "execution_count": 9,
   "metadata": {},
   "outputs": [],
   "source": [
    "test_sentence = 'The service was great.'"
   ]
  },
  {
   "cell_type": "code",
   "execution_count": 10,
   "metadata": {},
   "outputs": [
    {
     "name": "stdout",
     "output_type": "stream",
     "text": [
      "yelp predicts positive with a positive probability of 99.1521 %\n",
      "imdb predicts positive with a positive probability of 62.9439 %\n",
      "amazon predicts positive with a positive probability of 85.9803 %\n"
     ]
    }
   ],
   "source": [
    "testing(test_sentence)"
   ]
  },
  {
   "cell_type": "code",
   "execution_count": null,
   "metadata": {},
   "outputs": [],
   "source": []
  },
  {
   "cell_type": "code",
   "execution_count": null,
   "metadata": {},
   "outputs": [],
   "source": []
  },
  {
   "cell_type": "code",
   "execution_count": null,
   "metadata": {},
   "outputs": [],
   "source": []
  },
  {
   "cell_type": "code",
   "execution_count": null,
   "metadata": {},
   "outputs": [],
   "source": []
  }
 ],
 "metadata": {
  "kernelspec": {
   "display_name": "Python 3",
   "language": "python",
   "name": "python3"
  },
  "language_info": {
   "codemirror_mode": {
    "name": "ipython",
    "version": 3
   },
   "file_extension": ".py",
   "mimetype": "text/x-python",
   "name": "python",
   "nbconvert_exporter": "python",
   "pygments_lexer": "ipython3",
   "version": "3.6.4"
  }
 },
 "nbformat": 4,
 "nbformat_minor": 2
}
