{
 "cells": [
  {
   "cell_type": "code",
   "execution_count": null,
   "metadata": {},
   "outputs": [],
   "source": [
    "import pandas as pd\n",
    "from sklearn.feature_extraction.text import CountVectorizer #The vectorizer\n",
    "from sklearn.naive_bayes import MultinomialNB #The algorithm\n",
    "from sklearn.model_selection import cross_val_score #The accuracy check\n"
   ]
  },
  {
   "cell_type": "markdown",
   "metadata": {},
   "source": [
    "Written by Chad Valencia, chadvalencia@gmail.com\n",
    "\n",
    "Data sourced from:\n",
    "https://archive.ics.uci.edu/ml/datasets/Sentiment+Labelled+Sentences\n",
    "for the paper:\n",
    "From Group to Individual Labels using Deep Features', Kotzias et. al,. KDD 2015 \n"
   ]
  },
  {
   "cell_type": "code",
   "execution_count": null,
   "metadata": {},
   "outputs": [],
   "source": [
    "%time yelp_reviews = pd.read_csv('data/yelp_labelled.txt',header=None,delimiter='\\t')"
   ]
  },
  {
   "cell_type": "code",
   "execution_count": null,
   "metadata": {},
   "outputs": [],
   "source": [
    "yelp_reviews.head(20)"
   ]
  },
  {
   "cell_type": "code",
   "execution_count": null,
   "metadata": {},
   "outputs": [],
   "source": [
    "yelp_reviews.describe()"
   ]
  },
  {
   "cell_type": "code",
   "execution_count": null,
   "metadata": {},
   "outputs": [],
   "source": [
    "#To-Do: Run count-vectorizer and Naive Bayes."
   ]
  },
  {
   "cell_type": "code",
   "execution_count": null,
   "metadata": {},
   "outputs": [],
   "source": [
    "#Count Vectorizer does a word count of every word in the overall vocabulary\n",
    "\n",
    "#yelp reviews\n",
    "countvec = CountVectorizer()\n",
    "%time X_yelp = countvec.fit_transform(yelp_reviews[0]) \n",
    "#the new feature set based off of the vocabulary\n",
    "y_yelp = yelp_reviews[1] # this is the target column"
   ]
  },
  {
   "cell_type": "code",
   "execution_count": null,
   "metadata": {},
   "outputs": [],
   "source": [
    "#Creating the models\n",
    "yelp = MultinomialNB() #Naive Bayes Model\n",
    "%time yelp.fit(X_yelp,y_yelp)\n",
    "\n",
    "#Model validation using K-fold cross validation\n",
    "scores = cross_val_score(yelp,X_yelp,y_yelp,cv=10)\n",
    "print(scores)\n",
    "avg_score = scores.mean()\n",
    "print(\"average score (accuracy):\", avg_score)#makes a prediction using Xy_test, scores accuracy to Yy_test"
   ]
  },
  {
   "cell_type": "code",
   "execution_count": null,
   "metadata": {},
   "outputs": [],
   "source": [
    "def testing(test_sentence):\n",
    "    yp = yelp.predict(countvec.transform([test_sentence]))\n",
    "    ypr = yelp.predict_proba(countvec.transform([test_sentence]))*100\n",
    "    posneg = []\n",
    "    if yp == 1:\n",
    "        posneg.append('positive')\n",
    "    else:\n",
    "        posneg.append('negative')\n",
    "    print('This review predicts '+str(posneg)+' with a positive probability of {:.04f} %'.format(ypr[0][1]))\n",
    "    pass"
   ]
  },
  {
   "cell_type": "code",
   "execution_count": null,
   "metadata": {},
   "outputs": [],
   "source": [
    "test_sentence = 'The service was great.'"
   ]
  },
  {
   "cell_type": "code",
   "execution_count": null,
   "metadata": {},
   "outputs": [],
   "source": [
    "testing(test_sentence)"
   ]
  },
  {
   "cell_type": "code",
   "execution_count": null,
   "metadata": {},
   "outputs": [],
   "source": []
  },
  {
   "cell_type": "code",
   "execution_count": null,
   "metadata": {},
   "outputs": [],
   "source": []
  },
  {
   "cell_type": "code",
   "execution_count": null,
   "metadata": {},
   "outputs": [],
   "source": []
  },
  {
   "cell_type": "code",
   "execution_count": null,
   "metadata": {},
   "outputs": [],
   "source": []
  }
 ],
 "metadata": {
  "kernelspec": {
   "display_name": "Python 3",
   "language": "python",
   "name": "python3"
  },
  "language_info": {
   "codemirror_mode": {
    "name": "ipython",
    "version": 3
   },
   "file_extension": ".py",
   "mimetype": "text/x-python",
   "name": "python",
   "nbconvert_exporter": "python",
   "pygments_lexer": "ipython3",
   "version": "3.6.4"
  }
 },
 "nbformat": 4,
 "nbformat_minor": 2
}
